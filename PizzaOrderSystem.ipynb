{
  "nbformat": 4,
  "nbformat_minor": 0,
  "metadata": {
    "colab": {
      "provenance": [],
      "include_colab_link": true
    },
    "kernelspec": {
      "name": "python3",
      "display_name": "Python 3"
    },
    "language_info": {
      "name": "python"
    }
  },
  "cells": [
    {
      "cell_type": "markdown",
      "metadata": {
        "id": "view-in-github",
        "colab_type": "text"
      },
      "source": [
        "<a href=\"https://colab.research.google.com/github/mustafaktaas/Python_PizzaOrderSystem_Bootcamp/blob/main/PizzaOrderSystem.ipynb\" target=\"_parent\"><img src=\"https://colab.research.google.com/assets/colab-badge.svg\" alt=\"Open In Colab\"/></a>"
      ]
    },
    {
      "cell_type": "markdown",
      "source": [
        "# PizzaOrderSystem"
      ],
      "metadata": {
        "id": "nIhoMcJYLIRt"
      }
    },
    {
      "cell_type": "markdown",
      "source": [
        "İyi çalışmalar. Projede yorum satırları ile olabildiğince ne yaptığımızı açıklamaya çalıştık. Her bir sınıf yapımız ve farklı görevdeki kod satırlarımız hücrelere ayrılmıştır. Takıldığımız bir nokta yanlışlık olmaması için normalde main() fonksiyonundaki ilk kod ile beraber Menu.txt dosyası içindeki yazıyı ekrana yazdırabiliyoruz. Ancak dosyamız dosya yolundan dolayı sizin bilgisayarınızda çalışmazsa eğer, hemen main() fonksiyonun başındaki kısmı kaldırıp bir sonraki kodu aktif hale getirerek işleminize devam edebilirsiniz.  Teşekkürler..."
      ],
      "metadata": {
        "id": "9DfO8m5W1MS6"
      }
    },
    {
      "cell_type": "code",
      "source": [
        "# Pizza Üst Sınıfı\n",
        "class Pizza:\n",
        "    def __init__(self, description,prices):\n",
        "        self.description = description\n",
        "        self.prices = prices\n",
        "    \n",
        "    def get_description(self):\n",
        "        return self.description\n",
        "\n",
        "    def get_cost(self):\n",
        "        return self.prices\n"
      ],
      "metadata": {
        "id": "UayF_Tnfa_7L"
      },
      "execution_count": null,
      "outputs": []
    },
    {
      "cell_type": "code",
      "source": [
        "# Pizza Alt Sınıfları\n",
        "class KlasikPizza(Pizza):\n",
        "    def __init__(self):\n",
        "        description = f\"Klasik pizza\"\n",
        "        prices = 8.99\n",
        "        super().__init__(description,prices)\n",
        "\n",
        "\n",
        "class MargheritaPizza(Pizza):\n",
        "    def __init__(self):\n",
        "        description = f\"Margherita pizza\"\n",
        "        prices = 9.99\n",
        "        super().__init__(description,prices)\n",
        "\n",
        "\n",
        "class TurkPizza(Pizza):\n",
        "    def __init__(self):\n",
        "        description = f\"Turk pizza\"\n",
        "        prices = 13.99\n",
        "        super().__init__(description,prices)\n",
        "\n",
        "\n",
        "class DominosPizza(Pizza):\n",
        "    def __init__(self):\n",
        "        description = f\"Dominos pizza\"\n",
        "        prices = 16.99\n",
        "        super().__init__(description,prices)\n"
      ],
      "metadata": {
        "id": "XaL37-RYbEBd"
      },
      "execution_count": null,
      "outputs": []
    },
    {
      "cell_type": "code",
      "source": [
        "# Boyut Üst Sınıfı\n",
        "class DecoratorSize(Pizza):\n",
        "    def __init__(self, pizza, size_multiplier):\n",
        "        self.pizza = pizza\n",
        "        self.size_multiplier = size_multiplier\n",
        "        self.prices = self.pizza.get_cost() * self.size_multiplier\n",
        "\n",
        "    def get_description(self):\n",
        "        return self.pizza.get_description()\n",
        "\n",
        "    def get_cost(self):\n",
        "        return self.prices"
      ],
      "metadata": {
        "id": "XvxyKDYpbQN6"
      },
      "execution_count": null,
      "outputs": []
    },
    {
      "cell_type": "code",
      "source": [
        "# Boyut Alt Sınıfları\n",
        "class SmallSize(DecoratorSize):\n",
        "    def __init__(self, pizza):\n",
        "        super().__init__(pizza,0.75)\n",
        "        self.description = \"Small\"\n",
        "\n",
        "    def get_description(self):\n",
        "        return self.description\n",
        "\n",
        "\n",
        "class MediumSize(DecoratorSize):\n",
        "    def __init__(self, pizza):\n",
        "        super().__init__(pizza,1)\n",
        "        self.price_multiplier = 1\n",
        "        self.description = \"Medium\"\n",
        "\n",
        "    def get_description(self):\n",
        "        return self.description\n",
        "\n",
        "\n",
        "class LargeSize(DecoratorSize):\n",
        "    def __init__(self, pizza):\n",
        "        super().__init__(pizza,1.25)\n",
        "        self.description = \"Large\"\n",
        "\n",
        "    def get_description(self):\n",
        "        return self.description"
      ],
      "metadata": {
        "id": "7tJmXQdKbTtf"
      },
      "execution_count": null,
      "outputs": []
    },
    {
      "cell_type": "code",
      "source": [
        "#Sos Üst Sınıfı\n",
        "class DecoratorSos(Pizza):\n",
        "    def __init__(self, pizza):\n",
        "        self.pizza = pizza\n",
        "\n",
        "    def get_description(self):\n",
        "        return self.pizza.get_description()\n",
        "\n",
        "    def get_cost(self):\n",
        "        return self.pizza.get_cost()"
      ],
      "metadata": {
        "id": "KhgJZvQcbWq-"
      },
      "execution_count": null,
      "outputs": []
    },
    {
      "cell_type": "code",
      "source": [
        "# Sos Alt Sınıfları\n",
        "class ZeytinSos(DecoratorSos):\n",
        "    def __init__(self, pizza):\n",
        "        super().__init__(pizza)\n",
        "        self.price = 0.99\n",
        "        self.description = \" Zeytin Sosu\"\n",
        "\n",
        "    def get_description(self):\n",
        "        return self.description\n",
        "\n",
        "    def get_cost(self):\n",
        "        return self.price\n",
        "\n",
        "\n",
        "class MantarSos(DecoratorSos):\n",
        "    def __init__(self, pizza):\n",
        "        super().__init__(pizza)\n",
        "        self.price = 1.99\n",
        "        self.description = \" Mantar Sosu\"\n",
        "\n",
        "    def get_description(self):\n",
        "        return self.description\n",
        "\n",
        "    def get_cost(self):\n",
        "        return self.price\n",
        "\n",
        "\n",
        "class KeciPeyniriSos(DecoratorSos):\n",
        "    def __init__(self, pizza):\n",
        "        super().__init__(pizza)\n",
        "        self.price = 2.99\n",
        "        self.description = \" Keçi Peyniri Sosu\"\n",
        "\n",
        "    def get_description(self):\n",
        "        return self.description\n",
        "\n",
        "    def get_cost(self):\n",
        "        return self.price\n",
        "\n",
        "\n",
        "class EtSos(DecoratorSos):\n",
        "    def __init__(self, pizza):\n",
        "        super().__init__(pizza)\n",
        "        self.price = 3.99\n",
        "        self.description = \" Et Sosu\"\n",
        "\n",
        "    def get_description(self):\n",
        "        return self.description\n",
        "\n",
        "    def get_cost(self):\n",
        "        return self.price\n",
        "\n",
        "\n",
        "class SoganSos(DecoratorSos):\n",
        "    def __init__(self, pizza):\n",
        "        super().__init__(pizza)\n",
        "        self.price = 0.99\n",
        "        self.description = \" Soğan Sosu\"\n",
        "\n",
        "    def get_description(self):\n",
        "        return self.description\n",
        "\n",
        "    def get_cost(self):\n",
        "        return self.price\n",
        "\n",
        "\n",
        "class MisirSos(DecoratorSos):\n",
        "    def __init__(self, pizza):\n",
        "        super().__init__(pizza)\n",
        "        self.price = 1.99\n",
        "        self.description = \" Mısır Sosu\"\n",
        "\n",
        "    def get_description(self):\n",
        "        return self.description\n",
        "\n",
        "    def get_cost(self):\n",
        "        return self.price"
      ],
      "metadata": {
        "id": "c6B4LnnrbbJR"
      },
      "execution_count": null,
      "outputs": []
    },
    {
      "cell_type": "code",
      "source": [
        "# Siparişimizin Veritabanına Yazdırılması\n",
        "import csv\n",
        "import os\n",
        "from datetime import datetime\n",
        "\n",
        "def add_order_to_database(name, id_no, card_no, description, card_cvv, total_cost):\n",
        "    # Sipariş tarihini ve saatinin alınması\n",
        "    now = datetime.now()\n",
        "    order_time = now.strftime(\"%Y-%m-%d %H:%M:%S\")\n",
        "\n",
        "    # Yeni bir sipariş satırı oluşturulması\n",
        "    new_order = [name, id_no, card_no, description, order_time, card_cvv, total_cost]\n",
        "\n",
        "    file_exists = os.path.isfile(\"Orders_Database.csv\")\n",
        "\n",
        "    # Orders_Database.csv dosyasına sipariş satırının eklenmesi\n",
        "    with open(\"Orders_Database.csv\", mode=\"a\", newline=\"\") as file:\n",
        "        writer = csv.writer(file)\n",
        "        if file_exists:\n",
        "            writer.writerow(new_order)\n",
        "        else:\n",
        "            header = ([\"Name\", \"Id\", \"Card Number\", \"Order Description\", \"Order Time\", \"Card Password\", \"Total Price\"])\n",
        "            writer.writerow(header)\n",
        "            writer.writerow(new_order)"
      ],
      "metadata": {
        "id": "f0EEzo09bhQB"
      },
      "execution_count": null,
      "outputs": []
    },
    {
      "cell_type": "code",
      "source": [
        "# Siparişi Sağlayacak main() Fonksiyonu\n",
        "def main():\n",
        "  \n",
        "    with open('/Menu.txt', 'r') as f:\n",
        "       menu_items = f.readlines()\n",
        "    for item in menu_items:\n",
        "       print(item.strip())\n",
        "    \n",
        "    \"\"\"print(\"*************************************/n\")\n",
        "    print(\"* Lütfen Bir Pizza Tabanı Seçiniz:\")\n",
        "    print(\"1.Klasik - 8.99$\")\n",
        "    print(\"2.Margherita - 9.99$\")\n",
        "    print(\"3.Turk - 13.99$\")\n",
        "    print(\"4.Dominos - 16.99$\\n\")\n",
        "    print(\"* Pizzanızın boyutunu seçiniz:\")\n",
        "    print(\"5.Small - 0.75 * Pizza Fiyatı\")\n",
        "    print(\"6.Medium - 1 * Pizza Fiyatı\")\n",
        "    print(\"7.Large - 1.25 * Pizza Fiyatı\\n\")\n",
        "    print(\"* ve seçeceğiniz sos:\")\n",
        "    print(\"11.Zeytin Sosu - +0.99$\")\n",
        "    print(\"12.Mantar Sosu - +1.99$\")\n",
        "    print(\"13.Keçi Peyniri - +2.99$\")\n",
        "    print(\"14.Et Sosu - +3.99$\")\n",
        "    print(\"15.Soğan Sosu - +0.99$\")\n",
        "    print(\"16.Mısır Sosu - +1.99$\\n\")\n",
        "    print(\"* Teşekkür ederiz!\\n\")\n",
        "    print(\"******************************************\")\"\"\"\n",
        "    \n",
        "\n",
        "    # Kullanıcıdan pizza seçimini al\n",
        "    pizza_choice = input(\"Lütfen pizza seçiniz (1-4): \")\n",
        "    while pizza_choice not in [\"1\", \"2\", \"3\", \"4\"]:\n",
        "        pizza_choice = input(\"Lütfen geçerli bir pizza numarası seçiniz (1-4): \")\n",
        "\n",
        "    # Seçilen pizzayı al\n",
        "    if pizza_choice == \"1\":\n",
        "        pizza = KlasikPizza()\n",
        "    elif pizza_choice == \"2\":\n",
        "        pizza = MargheritaPizza()\n",
        "    elif pizza_choice ==\"3\":\n",
        "        pizza = TurkPizza()\n",
        "    else:\n",
        "        pizza = DominosPizza()\n",
        "\n",
        "    # Kullanıcıdan pizza seçimini al\n",
        "    size_choice = input(\"Lütfen pizza boyutunuzu seçiniz (5-7): \")\n",
        "    while size_choice not in [\"5\", \"6\", \"7\"]:\n",
        "        size_choice = input(\"Lütfen geçerli bir pizza boyutu numarası seçiniz (5-7): \")\n",
        "\n",
        "    # Seçilen pizzayı al\n",
        "    if size_choice == \"5\":\n",
        "        size = SmallSize(pizza)\n",
        "    elif size_choice == \"6\":\n",
        "        size = MediumSize(pizza)\n",
        "    elif size_choice == \"7\":\n",
        "        size = LargeSize(pizza)\n",
        "    else:\n",
        "        size = DominosPizza()\n",
        "\n",
        "    # Kullanıcıdan sos seçimini al\n",
        "    sos_choice = input(\"Lütfen sos seçiniz (11-16): \")\n",
        "    while sos_choice not in [\"11\", \"12\", \"13\", \"14\", \"15\", \"16\"]:\n",
        "        sos_choice = input(\"Lütfen geçerli bir sos harfi seçiniz (11-16): \")\n",
        "    # Seçilen sosu al\n",
        "    if sos_choice == \"11\":\n",
        "        sos = ZeytinSos(pizza)\n",
        "    elif sos_choice == \"12\":\n",
        "        sos = MantarSos(pizza)\n",
        "    elif sos_choice == \"13\":\n",
        "        sos = KeciPeyniriSos(pizza)\n",
        "    elif sos_choice == \"14\":\n",
        "        sos = EtSos(pizza)\n",
        "    elif sos_choice == \"15\":\n",
        "        sos = SoganSos(pizza)\n",
        "    else:\n",
        "        sos = SoganSos(pizza)\n",
        "    \n",
        "\n",
        "  \n",
        "   # Kullanıcı bilgilerinin alınması\n",
        "    name = input(\"Adınız: \")\n",
        "    id_no = input(\"TC Kimlik Numaranız: \")\n",
        "    card_no = input(\"Kredi Kartı Numaranız: \")\n",
        "    card_cvv = input(\"Kredi Kartı Şifreniz: \")\n",
        "\n",
        "    # Siparişin açıklamasının oluşturulması\n",
        "    order_description = size.get_description() + \" \" + pizza.get_description() + \" with\" + sos.get_description()\n",
        "\n",
        "    # Siparişin fiyatının hesaplanması\n",
        "    total_cost = size.get_cost() + sos.get_cost()\n",
        "\n",
        "    # Siparişin veritabanına kaydedilmesi\n",
        "    add_order_to_database(name, id_no, card_no, order_description, card_cvv,total_cost)\n",
        "\n",
        "    # Kullanıcıya sipariş detaylarının gösterilmesi\n",
        "    print(\"Sipariş Detayları:\")\n",
        "    print(\"------------------\")\n",
        "    print(\"Ad: \", name)\n",
        "    print(\"TC Kimlik Numarası: \", id_no)\n",
        "    print(\"Kredi Kartı Numarası: \", card_no)\n",
        "    print(\"Sipariş Açıklaması: \", order_description)\n",
        "    print(\"Toplam Fiyat: \", total_cost)\n",
        "    print(\"Sipariş Zamanı: \", datetime.now().strftime(\"%Y-%m-%d %H:%M:%S\"))\n",
        "    # Siparişi onayla\n",
        "    print(\"\\nSiparişiniz alınmıştır. Teşekkür ederiz!\")\n"
      ],
      "metadata": {
        "id": "gviod3LZbsf2"
      },
      "execution_count": null,
      "outputs": []
    },
    {
      "cell_type": "code",
      "source": [
        "main()"
      ],
      "metadata": {
        "id": "v8FMRVIsbtP3",
        "colab": {
          "base_uri": "https://localhost:8080/"
        },
        "outputId": "a3ad9224-89a2-4e31-dbed-93bf8d68492f"
      },
      "execution_count": null,
      "outputs": [
        {
          "output_type": "stream",
          "name": "stdout",
          "text": [
            "**********************************\n",
            "* Lütfen Bir Pizza Tabanı Seçiniz:\n",
            "1.Klasik - 8.99$\n",
            "2.Margherita - 9.99$\n",
            "3.Turk - 13.99$\n",
            "4.Dominos - 16.99$\n",
            "\n",
            "* Pizzanızın boyutunu seçiniz:\n",
            "5.Small - 0.75 * Pizza Fiyatı\n",
            "6.Medium - 1 * Pizza Fiyatı\n",
            "7.Large - 1.25 * Pizza Fiyatı\n",
            "\n",
            "* ve seçeceğiniz sos:\n",
            "11.Zeytin Sosu - +0.99$\n",
            "12.Mantar Sosu - +1.99$\n",
            "13.Keçi Peyniri - +2.99$\n",
            "14.Et Sosu - +3.99$\n",
            "15.Soğan Sosu - +0.99$\n",
            "16.Mısır Sosu - +1.99$\n",
            "* Teşekkür ederiz!\n",
            "**********************************\n",
            "Lütfen pizza seçiniz (1-4): 3\n",
            "Lütfen pizza boyutunuzu seçiniz (5-7): 6\n",
            "Lütfen sos seçiniz (11-16): 14\n",
            "Adınız: Mustafa Aktaş\n",
            "TC Kimlik Numaranız: 23787438478\n",
            "Kredi Kartı Numaranız: 1234-5434-5465-8979\n",
            "Kredi Kartı Şifreniz: 1234\n",
            "Sipariş Detayları:\n",
            "------------------\n",
            "Ad:  Mustafa Aktaş\n",
            "TC Kimlik Numarası:  23787438478\n",
            "Kredi Kartı Numarası:  1234-5434-5465-8979\n",
            "Sipariş Açıklaması:  Medium Turk pizza with Et Sosu\n",
            "Toplam Fiyat:  17.98\n",
            "Sipariş Zamanı:  2023-03-11 11:01:37\n",
            "\n",
            "Siparişiniz alınmıştır. Teşekkür ederiz!\n"
          ]
        }
      ]
    },
    {
      "cell_type": "code",
      "source": [
        "Finish :))"
      ],
      "metadata": {
        "id": "xuv404eH3pE4"
      },
      "execution_count": null,
      "outputs": []
    }
  ]
}